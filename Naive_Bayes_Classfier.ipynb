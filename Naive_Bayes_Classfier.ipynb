{
  "nbformat": 4,
  "nbformat_minor": 0,
  "metadata": {
    "colab": {
      "provenance": []
    },
    "kernelspec": {
      "name": "python3",
      "display_name": "Python 3"
    },
    "language_info": {
      "name": "python"
    }
  },
  "cells": [
    {
      "cell_type": "markdown",
      "source": [
        "# Naive Bayes Classifier"
      ],
      "metadata": {
        "id": "AUbOu3U5EWGu"
      }
    },
    {
      "cell_type": "code",
      "source": [
        "# Tập dữ liệu ví dụ\n",
        "\n",
        "train_x = [\n",
        "           'just plain boring',\n",
        "           'entirely predictable and lacks energy',\n",
        "           'no surprises and very few laughs',\n",
        "           'very powerful',\n",
        "           'the most fun film of the summer'\n",
        "]\n",
        "train_y = [0, 0, 0, 1, 1]"
      ],
      "metadata": {
        "id": "bX-W7UlKEgX9"
      },
      "execution_count": 1,
      "outputs": []
    },
    {
      "cell_type": "markdown",
      "source": [
        "**Tiền xử lý dữ liệu cơ bản**"
      ],
      "metadata": {
        "id": "7s0m1g1EE-Q_"
      }
    },
    {
      "cell_type": "code",
      "source": [
        "def basic_preprocess(text):\n",
        "    \"\"\" Tiền xử lý và tách các câu\n",
        "    Args:\n",
        "        text: câu đầu vào. \n",
        "        VD: \"Tôi đi học\"\n",
        "    Output:\n",
        "        text_clean: danh sách các từ (token) sau khi chuyển sang chữ thường và\n",
        "            được phân tách bởi khoảng trắng\n",
        "    \"\"\"\n",
        "    text_clean = text.lower()\n",
        "    return text_clean.split()\n",
        "\n",
        "basic_preprocess(train_x[0])"
      ],
      "metadata": {
        "colab": {
          "base_uri": "https://localhost:8080/"
        },
        "id": "ZdIl4ex8FAlu",
        "outputId": "649b3535-2dae-4581-8d45-9bc2caf3d8ba"
      },
      "execution_count": 2,
      "outputs": [
        {
          "output_type": "execute_result",
          "data": {
            "text/plain": [
              "['just', 'plain', 'boring']"
            ]
          },
          "metadata": {},
          "execution_count": 2
        }
      ]
    },
    {
      "cell_type": "markdown",
      "source": [
        "**Xây dựng bộ từ điển**"
      ],
      "metadata": {
        "id": "3eztgtMbFG1m"
      }
    },
    {
      "cell_type": "code",
      "source": [
        "def count_freq_words(corpus, labels):\n",
        "    \"\"\" Xây dựng bộ từ điển tần suất xuất hiện của các từ\n",
        "    Args:\n",
        "        corpus: tập danh sách các câu\n",
        "        labels: tập nhãn tương ứng với các câu trong corpus (0 hoặc 1)\n",
        "    Output:\n",
        "        model: bộ từ điển ánh xạ mỗi từ và tần suất xuất hiện của từ đó trong corpus\n",
        "            key: (word, label)\n",
        "            value: frequency\n",
        "            VD: {('boring', 0): 2} => từ boring xuất hiện 2 lần trong các sample thuộc class 0\n",
        "    \"\"\"\n",
        "    model = {}\n",
        "    for label, sentence in zip(labels, corpus):\n",
        "        for word in basic_preprocess(sentence):\n",
        "            # Định nghĩa key của model là tuple (word, label)\n",
        "            pair = (word, label)\n",
        "            # Nếu key đã tồn tại trong model thì tăng value lên 1\n",
        "            if pair in model:\n",
        "                model[pair] += 1\n",
        "            # Nếu key chưa tồn tại trong model thì bổ sung key vào model với value =1\n",
        "            else:\n",
        "                model[pair] = 1\n",
        "    return model"
      ],
      "metadata": {
        "id": "AZkTh63IFFlG"
      },
      "execution_count": 3,
      "outputs": []
    },
    {
      "cell_type": "code",
      "source": [
        "#Kiểm tra kết quả\n",
        "freqs = count_freq_words(train_x, train_y)\n",
        "freqs"
      ],
      "metadata": {
        "colab": {
          "base_uri": "https://localhost:8080/"
        },
        "id": "3cNdfJx0FUGW",
        "outputId": "33a90f44-8b4a-4007-9c65-73256a17075c"
      },
      "execution_count": 4,
      "outputs": [
        {
          "output_type": "execute_result",
          "data": {
            "text/plain": [
              "{('just', 0): 1,\n",
              " ('plain', 0): 1,\n",
              " ('boring', 0): 1,\n",
              " ('entirely', 0): 1,\n",
              " ('predictable', 0): 1,\n",
              " ('and', 0): 2,\n",
              " ('lacks', 0): 1,\n",
              " ('energy', 0): 1,\n",
              " ('no', 0): 1,\n",
              " ('surprises', 0): 1,\n",
              " ('very', 0): 1,\n",
              " ('few', 0): 1,\n",
              " ('laughs', 0): 1,\n",
              " ('very', 1): 1,\n",
              " ('powerful', 1): 1,\n",
              " ('the', 1): 2,\n",
              " ('most', 1): 1,\n",
              " ('fun', 1): 1,\n",
              " ('film', 1): 1,\n",
              " ('of', 1): 1,\n",
              " ('summer', 1): 1}"
            ]
          },
          "metadata": {},
          "execution_count": 4
        }
      ]
    },
    {
      "cell_type": "code",
      "source": [
        "# Hàm lấy ra tần suất xuất hiện là value trong `freq` dựa vào key (word, label)\n",
        "def lookup(freqs, word, label):\n",
        "    '''\n",
        "    Args:\n",
        "        freqs: một từ điển với tần số của mỗi cặp\n",
        "        word: từ để tra cứu\n",
        "        label: nhãn tương ứng với từ\n",
        "    Output:\n",
        "        count: số lần từ có nhãn tương ứng xuất hiện.\n",
        "    '''\n",
        "    count = 0\n",
        "\n",
        "    pair = (word, label)\n",
        "    if pair in freqs:\n",
        "        count = freqs[pair]\n",
        "\n",
        "    return count\n",
        "\n",
        "lookup(freqs, \"just\", 0)"
      ],
      "metadata": {
        "colab": {
          "base_uri": "https://localhost:8080/"
        },
        "id": "MI11a0YIFjpF",
        "outputId": "ac0eaded-616b-433d-9a67-dda86c3c3d74"
      },
      "execution_count": 5,
      "outputs": [
        {
          "output_type": "execute_result",
          "data": {
            "text/plain": [
              "1"
            ]
          },
          "metadata": {},
          "execution_count": 5
        }
      ]
    },
    {
      "cell_type": "markdown",
      "source": [
        "**Thuật toán phân loại Naive Bayes**"
      ],
      "metadata": {
        "id": "zooSVCOyGoB3"
      }
    },
    {
      "cell_type": "markdown",
      "source": [
        "**Bước 1: Tính xác suất tiên nghiệm của các class**"
      ],
      "metadata": {
        "id": "dRpfLBZJGvCF"
      }
    },
    {
      "cell_type": "code",
      "source": [
        "def compute_prior_prob(train_y):\n",
        "    # Tính D, D_pos, D_neg dựa vào x_train\n",
        "    # Tính D, số lượng các sample trong training\n",
        "    D = len(train_y)\n",
        "\n",
        "    # Tính D_pos, số lượng các positive sample trong training\n",
        "    D_pos = len(list(filter(lambda x: x == 1, train_y)))\n",
        "\n",
        "    # Tính D_neg, số lượng các negative sample trong training\n",
        "    D_neg = len(list(filter(lambda x: x == 0, train_y)))\n",
        "\n",
        "    # Tính xác suất tiên nghiệm cho các class 0 và 1\n",
        "    p_prior = {0:(D_neg/D), 1:(D_pos/D)}\n",
        "    return p_prior"
      ],
      "metadata": {
        "id": "JXkoRN5SG2HV"
      },
      "execution_count": 6,
      "outputs": []
    },
    {
      "cell_type": "code",
      "source": [
        "#Kiểm tra kết quả\n",
        "compute_prior_prob(train_y)"
      ],
      "metadata": {
        "colab": {
          "base_uri": "https://localhost:8080/"
        },
        "id": "PnzIHin3Hg-c",
        "outputId": "6134c246-231f-47d9-f4ba-bb61ba7cf2fb"
      },
      "execution_count": 7,
      "outputs": [
        {
          "output_type": "execute_result",
          "data": {
            "text/plain": [
              "{0: 0.6, 1: 0.4}"
            ]
          },
          "metadata": {},
          "execution_count": 7
        }
      ]
    },
    {
      "cell_type": "markdown",
      "source": [
        "**Bước 2: Tính xác suất likelihood**"
      ],
      "metadata": {
        "id": "4TET2awIHrX8"
      }
    },
    {
      "cell_type": "code",
      "source": [
        "def compute_likelihood(freqs):\n",
        "    # Tính xác suất likelihood của mỗi từ trong bộ từ điển\n",
        "\n",
        "    # Tính V các từ duy nhất xuất hiện trong tập train\n",
        "    vocab = set([pair[0] for pair in freqs.keys()])\n",
        "    V = len(vocab)\n",
        "\n",
        "    # Tính N_pos: số lượng từ trong positive samples và N_neg: số từ trong negative sample\n",
        "    N_pos = N_neg = 0\n",
        "    for pair in freqs.keys():\n",
        "        # Nếu như class: 1 tăng N_pos thêm số lần xuất hiện của pair trong freqs\n",
        "        if pair[1] > 0:\n",
        "            N_pos += freqs[pair]\n",
        "\n",
        "        # Nếu như class: 0 tăng N_neg thêm số lần xuất hiện của pair trong freqs\n",
        "        else:\n",
        "            N_neg += freqs[pair]\n",
        "    \n",
        "    print(f'V: {V}, N_pos: {N_pos}, N_neg: {N_neg}')\n",
        "\n",
        "    # Tính likelihood cho mỗi từ trong bộ từ điển\n",
        "    p_likelihood = {}\n",
        "    for word in vocab:\n",
        "        # Lấy tần xuất xuất hiện của mỗi từ là positive hoặc negative\n",
        "        freq_pos = lookup(freqs, word, 1)\n",
        "        freq_neg = lookup(freqs, word, 0)\n",
        "\n",
        "        # Tính xác suất likelihood của mỗi từ với class positive và negative\n",
        "        p_w_pos = (freq_pos + 1) / (N_pos + V)\n",
        "        p_w_neg = (freq_neg + 1) / (N_neg + V)\n",
        "\n",
        "        # Lưu vào p_likelihood dictionary\n",
        "        p_likelihood[word] = {0:p_w_neg, 1:p_w_pos}\n",
        "    \n",
        "    return p_likelihood"
      ],
      "metadata": {
        "id": "FSSRJ1G9HvqN"
      },
      "execution_count": 8,
      "outputs": []
    },
    {
      "cell_type": "code",
      "source": [
        "#Kiểm tra kết quả\n",
        "compute_likelihood(freqs)"
      ],
      "metadata": {
        "colab": {
          "base_uri": "https://localhost:8080/"
        },
        "id": "fHjTfReOIRok",
        "outputId": "f68a7b62-6a7a-433a-ed49-30e107a53dfb"
      },
      "execution_count": 9,
      "outputs": [
        {
          "output_type": "stream",
          "name": "stdout",
          "text": [
            "V: 20, N_pos: 9, N_neg: 14\n"
          ]
        },
        {
          "output_type": "execute_result",
          "data": {
            "text/plain": [
              "{'few': {0: 0.058823529411764705, 1: 0.034482758620689655},\n",
              " 'surprises': {0: 0.058823529411764705, 1: 0.034482758620689655},\n",
              " 'lacks': {0: 0.058823529411764705, 1: 0.034482758620689655},\n",
              " 'summer': {0: 0.029411764705882353, 1: 0.06896551724137931},\n",
              " 'powerful': {0: 0.029411764705882353, 1: 0.06896551724137931},\n",
              " 'entirely': {0: 0.058823529411764705, 1: 0.034482758620689655},\n",
              " 'very': {0: 0.058823529411764705, 1: 0.06896551724137931},\n",
              " 'no': {0: 0.058823529411764705, 1: 0.034482758620689655},\n",
              " 'laughs': {0: 0.058823529411764705, 1: 0.034482758620689655},\n",
              " 'of': {0: 0.029411764705882353, 1: 0.06896551724137931},\n",
              " 'the': {0: 0.029411764705882353, 1: 0.10344827586206896},\n",
              " 'fun': {0: 0.029411764705882353, 1: 0.06896551724137931},\n",
              " 'most': {0: 0.029411764705882353, 1: 0.06896551724137931},\n",
              " 'plain': {0: 0.058823529411764705, 1: 0.034482758620689655},\n",
              " 'just': {0: 0.058823529411764705, 1: 0.034482758620689655},\n",
              " 'predictable': {0: 0.058823529411764705, 1: 0.034482758620689655},\n",
              " 'film': {0: 0.029411764705882353, 1: 0.06896551724137931},\n",
              " 'energy': {0: 0.058823529411764705, 1: 0.034482758620689655},\n",
              " 'and': {0: 0.08823529411764706, 1: 0.034482758620689655},\n",
              " 'boring': {0: 0.058823529411764705, 1: 0.034482758620689655}}"
            ]
          },
          "metadata": {},
          "execution_count": 9
        }
      ]
    },
    {
      "cell_type": "markdown",
      "source": [
        "**Bước 3: Hoàn thiện train function cho Naive Bayes**"
      ],
      "metadata": {
        "id": "pmgJ-HApIXlU"
      }
    },
    {
      "cell_type": "code",
      "source": [
        "def train_naive_bayes(train_x, train_y):\n",
        "    ''' Huấn luyện thuật toán Naive Bayes\n",
        "    Args:\n",
        "        train_x: Danh sách các câu\n",
        "        train_y: Danh sách các nhãn tương ứng (0 hoặc 1)\n",
        "    Output:\n",
        "        p_prior: Xác suất tiên nghiệm\n",
        "        p_likelihood: giá trị likelihood tối đa của xác suất.\n",
        "    '''\n",
        "    # Xây dựng từ điển tần suất xuất hiện của từ và nhãn tương ứng\n",
        "    freqs = count_freq_words(train_x, train_y)\n",
        "\n",
        "    # Tính xác suất tiên nghiệm\n",
        "    p_prior = compute_prior_prob(train_y)\n",
        "\n",
        "    # Tính xác suất likelihood\n",
        "    p_likelihood = compute_likelihood(freqs)\n",
        "\n",
        "    return p_prior, p_likelihood"
      ],
      "metadata": {
        "id": "a8Qvl_IyIcMc"
      },
      "execution_count": 10,
      "outputs": []
    },
    {
      "cell_type": "code",
      "source": [
        "# Kiểm tra kết quả\n",
        "p_prior, p_likelihood = train_naive_bayes(train_x, train_y)\n",
        "p_prior, p_likelihood"
      ],
      "metadata": {
        "colab": {
          "base_uri": "https://localhost:8080/"
        },
        "id": "itVMIh4PIubF",
        "outputId": "d481da16-7d5d-4858-8c5e-1a55bed01339"
      },
      "execution_count": 11,
      "outputs": [
        {
          "output_type": "stream",
          "name": "stdout",
          "text": [
            "V: 20, N_pos: 9, N_neg: 14\n"
          ]
        },
        {
          "output_type": "execute_result",
          "data": {
            "text/plain": [
              "({0: 0.6, 1: 0.4},\n",
              " {'few': {0: 0.058823529411764705, 1: 0.034482758620689655},\n",
              "  'surprises': {0: 0.058823529411764705, 1: 0.034482758620689655},\n",
              "  'lacks': {0: 0.058823529411764705, 1: 0.034482758620689655},\n",
              "  'summer': {0: 0.029411764705882353, 1: 0.06896551724137931},\n",
              "  'powerful': {0: 0.029411764705882353, 1: 0.06896551724137931},\n",
              "  'entirely': {0: 0.058823529411764705, 1: 0.034482758620689655},\n",
              "  'very': {0: 0.058823529411764705, 1: 0.06896551724137931},\n",
              "  'no': {0: 0.058823529411764705, 1: 0.034482758620689655},\n",
              "  'laughs': {0: 0.058823529411764705, 1: 0.034482758620689655},\n",
              "  'of': {0: 0.029411764705882353, 1: 0.06896551724137931},\n",
              "  'the': {0: 0.029411764705882353, 1: 0.10344827586206896},\n",
              "  'fun': {0: 0.029411764705882353, 1: 0.06896551724137931},\n",
              "  'most': {0: 0.029411764705882353, 1: 0.06896551724137931},\n",
              "  'plain': {0: 0.058823529411764705, 1: 0.034482758620689655},\n",
              "  'just': {0: 0.058823529411764705, 1: 0.034482758620689655},\n",
              "  'predictable': {0: 0.058823529411764705, 1: 0.034482758620689655},\n",
              "  'film': {0: 0.029411764705882353, 1: 0.06896551724137931},\n",
              "  'energy': {0: 0.058823529411764705, 1: 0.034482758620689655},\n",
              "  'and': {0: 0.08823529411764706, 1: 0.034482758620689655},\n",
              "  'boring': {0: 0.058823529411764705, 1: 0.034482758620689655}})"
            ]
          },
          "metadata": {},
          "execution_count": 11
        }
      ]
    },
    {
      "cell_type": "markdown",
      "source": [
        "**Dự đoán với các mẫu thử nghiệm**"
      ],
      "metadata": {
        "id": "Hjvy71tDI6vr"
      }
    },
    {
      "cell_type": "code",
      "source": [
        "def naive_bayes_predict(sentence, p_prior, p_likelihood):\n",
        "    '''\n",
        "    Args:\n",
        "        sentence: một câu\n",
        "        p_prior: một từ điển của xác suất tiên nghiệm\n",
        "        p_likelihood: một từ điển các từ ánh xạ tới xác suất\n",
        "    Output:\n",
        "        p: xác suất của chuỗi đó gắn với 0: negative, 1: positive\n",
        "\n",
        "    '''\n",
        "    # Tiền xử lý dữ liệu\n",
        "    words = basic_preprocess(sentence)\n",
        "\n",
        "    # Khởi tạo giá trị xác suất ban đầu là giá trị xác suất tiên nghiệm\n",
        "    p_neg = p_prior[0]\n",
        "    p_pos = p_prior[1]\n",
        "\n",
        "    for word in words:\n",
        "        # Kiểm tra xem word có tồn tại trong p_likelihood hay không\n",
        "        if word in p_likelihood:\n",
        "            # nhân xác suất tiên nghiệm với xác suất likelihood của các từ\n",
        "            p_neg *= p_likelihood[word][0]\n",
        "            p_pos *= p_likelihood[word][1]\n",
        "    \n",
        "    return {'prob': {0: p_neg, 1: p_pos},\n",
        "            'label': 0 if p_neg > p_pos else 1}"
      ],
      "metadata": {
        "id": "33e18y6BI8d-"
      },
      "execution_count": 12,
      "outputs": []
    },
    {
      "cell_type": "code",
      "source": [
        "# Kiểm tra kết quả\n",
        "sentence = \"predictable with no fun\"\n",
        "naive_bayes_predict(sentence, p_prior, p_likelihood)"
      ],
      "metadata": {
        "colab": {
          "base_uri": "https://localhost:8080/"
        },
        "id": "I2ih7WuGJj5D",
        "outputId": "15500fe5-3225-4464-f317-81a5e2d54313"
      },
      "execution_count": 13,
      "outputs": [
        {
          "output_type": "execute_result",
          "data": {
            "text/plain": [
              "{'prob': {0: 6.106248727864848e-05, 1: 3.2801672885317154e-05}, 'label': 0}"
            ]
          },
          "metadata": {},
          "execution_count": 13
        }
      ]
    },
    {
      "cell_type": "markdown",
      "source": [
        "# Naive Bayes Classfier for Sentiment Analysis on Tweets\n",
        "**Phân tích cảm xúc trên tập 1Tweets1 sử dụng thuật toán phân loại Naive Bayes**"
      ],
      "metadata": {
        "id": "lw2T0-E4BvBB"
      }
    },
    {
      "cell_type": "code",
      "execution_count": 14,
      "metadata": {
        "colab": {
          "base_uri": "https://localhost:8080/"
        },
        "id": "CrVhQjgrBkrX",
        "outputId": "86696cf7-1163-4442-f35b-069f486d6d24"
      },
      "outputs": [
        {
          "output_type": "stream",
          "name": "stderr",
          "text": [
            "[nltk_data] Downloading package twitter_samples to /root/nltk_data...\n",
            "[nltk_data]   Package twitter_samples is already up-to-date!\n"
          ]
        }
      ],
      "source": [
        "import re\n",
        "import string\n",
        "import nltk\n",
        "import numpy as np\n",
        "nltk.download('twitter_samples')\n",
        "from nltk.corpus import twitter_samples\n",
        "from nltk.tokenize import TweetTokenizer\n",
        "from tqdm import tqdm"
      ]
    },
    {
      "cell_type": "markdown",
      "source": [
        "**Download Dataset**"
      ],
      "metadata": {
        "id": "FHBw4sIlB93o"
      }
    },
    {
      "cell_type": "code",
      "source": [
        "# Tải về tập dữ liệu tweets\n",
        "all_positive_tweets = twitter_samples.strings('positive_tweets.json')\n",
        "all_negative_tweets = twitter_samples.strings('negative_tweets.json')\n",
        "\n",
        "# Chia thành 2 tập train và test\n",
        "# train: 4000 samples, test: 1000 samples\n",
        "train_pos = all_positive_tweets[:4000]\n",
        "test_pos = all_positive_tweets[4000:]\n",
        "\n",
        "train_neg = all_negative_tweets[:4000]\n",
        "test_neg = all_negative_tweets[4000:]\n",
        "\n",
        "train_x = train_pos + train_neg\n",
        "test_x = test_pos + test_neg\n",
        "\n",
        "# Tạo nhãn negative: 0, positive: 1\n",
        "train_y = np.append(np.ones(len(train_pos)), np.zeros(len(train_neg)))\n",
        "test_y = np.append(np.ones(len(test_pos)), np.zeros(len(test_neg)))"
      ],
      "metadata": {
        "id": "FEdxex2EB6io"
      },
      "execution_count": 15,
      "outputs": []
    },
    {
      "cell_type": "markdown",
      "source": [
        "**Tiền xử lý dữ liệu cho tập Tweets**"
      ],
      "metadata": {
        "id": "4FTmrMbWCRcC"
      }
    },
    {
      "cell_type": "code",
      "source": [
        "all_positive_tweets[:10]"
      ],
      "metadata": {
        "colab": {
          "base_uri": "https://localhost:8080/"
        },
        "id": "xHmfCqu8CUow",
        "outputId": "22ec1e28-748b-4252-c98d-fce9227235d7"
      },
      "execution_count": 16,
      "outputs": [
        {
          "output_type": "execute_result",
          "data": {
            "text/plain": [
              "['#FollowFriday @France_Inte @PKuchly57 @Milipol_Paris for being top engaged members in my community this week :)',\n",
              " '@Lamb2ja Hey James! How odd :/ Please call our Contact Centre on 02392441234 and we will be able to assist you :) Many thanks!',\n",
              " '@DespiteOfficial we had a listen last night :) As You Bleed is an amazing track. When are you in Scotland?!',\n",
              " '@97sides CONGRATS :)',\n",
              " 'yeaaaah yippppy!!!  my accnt verified rqst has succeed got a blue tick mark on my fb profile :) in 15 days',\n",
              " '@BhaktisBanter @PallaviRuhail This one is irresistible :)\\n#FlipkartFashionFriday http://t.co/EbZ0L2VENM',\n",
              " \"We don't like to keep our lovely customers waiting for long! We hope you enjoy! Happy Friday! - LWWF :) https://t.co/smyYriipxI\",\n",
              " '@Impatientraider On second thought, there’s just not enough time for a DD :) But new shorts entering system. Sheep must be buying.',\n",
              " 'Jgh , but we have to go to Bayan :D bye',\n",
              " 'As an act of mischievousness, am calling the ETL layer of our in-house warehousing app Katamari.\\n\\nWell… as the name implies :p.']"
            ]
          },
          "metadata": {},
          "execution_count": 16
        }
      ]
    },
    {
      "cell_type": "code",
      "source": [
        "def basic_preprocess(text):\n",
        "    '''\n",
        "    Args:\n",
        "        text: câu đầu vào\n",
        "    Output:\n",
        "        text_clean: danh sách các từ (token) sau khi chuyển sang chữ thường và\n",
        "            được phân tách bởi khoảng trắng\n",
        "    '''\n",
        "    # xóa bỏ stock market tickers like $GE\n",
        "    text = re.sub(r'\\$\\w*', '', text)\n",
        "\n",
        "    # xóa bỏ old style retweet text \"RT\"\n",
        "    text = re.sub(r'^RT[\\s]+', '', text)\n",
        "\n",
        "    # xóa bỏ hyperlinks\n",
        "    text = re.sub(r'https?:\\/\\/.*[\\r\\n]*', '', text)\n",
        "\n",
        "    # xóa bỏ hashtags\n",
        "    text = re.sub(r'#', '', text)\n",
        "\n",
        "    # tokenize\n",
        "    tokenizer = TweetTokenizer(preserve_case=False, strip_handles=True, reduce_len=True)\n",
        "    text_tokens = tokenizer.tokenize(text)\n",
        "\n",
        "    text_clean = []\n",
        "    for word in text_tokens:\n",
        "        if word not in string.punctuation:  # remove punctuation\n",
        "            text_clean.append(word)\n",
        "\n",
        "    return text_clean"
      ],
      "metadata": {
        "id": "KNIUA0ulCXeA"
      },
      "execution_count": 17,
      "outputs": []
    },
    {
      "cell_type": "code",
      "source": [
        "#Kiểm tra kết quả\n",
        "example_sentence = \"RT @Twitter @chapagain Hello There! Have a great day. #good #morning http://chapagain.com.np\"\n",
        "basic_preprocess(example_sentence)"
      ],
      "metadata": {
        "colab": {
          "base_uri": "https://localhost:8080/"
        },
        "id": "-NVPK7KVDsHy",
        "outputId": "9619cdab-0048-43be-ee45-37ca660fc132"
      },
      "execution_count": 18,
      "outputs": [
        {
          "output_type": "execute_result",
          "data": {
            "text/plain": [
              "['hello', 'there', 'have', 'a', 'great', 'day', 'good', 'morning']"
            ]
          },
          "metadata": {},
          "execution_count": 18
        }
      ]
    },
    {
      "cell_type": "markdown",
      "source": [
        "**Huấn luyện Naive Bayes Classifier trên tập Tweets**"
      ],
      "metadata": {
        "id": "Hes67Fp4Dz0Q"
      }
    },
    {
      "cell_type": "code",
      "source": [
        "p_prior, p_likelihood = train_naive_bayes(train_x, train_y)"
      ],
      "metadata": {
        "colab": {
          "base_uri": "https://localhost:8080/"
        },
        "id": "uVucre6AD4n_",
        "outputId": "c2b2f0ca-b8f6-418e-8a71-c7bb2611b9da"
      },
      "execution_count": 19,
      "outputs": [
        {
          "output_type": "stream",
          "name": "stdout",
          "text": [
            "V: 10841, N_pos: 41916, N_neg: 43321\n"
          ]
        }
      ]
    },
    {
      "cell_type": "code",
      "source": [
        "#Kết quả ví dụ về xác suất tiên nghiệm và likelihood của từ happy\n",
        "p_prior, p_likelihood['happy']"
      ],
      "metadata": {
        "colab": {
          "base_uri": "https://localhost:8080/"
        },
        "id": "zOI4DFNqKb1r",
        "outputId": "65793bb2-e7f1-4701-e7d9-4f487063f5ab"
      },
      "execution_count": 20,
      "outputs": [
        {
          "output_type": "execute_result",
          "data": {
            "text/plain": [
              "({0: 0.5, 1: 0.5}, {0: 0.0003507994534913777, 1: 0.0028432245957882366})"
            ]
          },
          "metadata": {},
          "execution_count": 20
        }
      ]
    },
    {
      "cell_type": "markdown",
      "source": [
        "**Dự đoán**"
      ],
      "metadata": {
        "id": "N_z_ctc9KeJa"
      }
    },
    {
      "cell_type": "code",
      "source": [
        "test_x[0], test_y[0]"
      ],
      "metadata": {
        "colab": {
          "base_uri": "https://localhost:8080/"
        },
        "id": "r4c3yMH3KgBF",
        "outputId": "4546a03f-14a9-47ce-e7b9-9e0d67b0c65b"
      },
      "execution_count": 21,
      "outputs": [
        {
          "output_type": "execute_result",
          "data": {
            "text/plain": [
              "('Bro:U wan cut hair anot,ur hair long Liao bo\\nMe:since ord liao,take it easy lor treat as save $ leave it longer :)\\nBro:LOL Sibei xialan',\n",
              " 1.0)"
            ]
          },
          "metadata": {},
          "execution_count": 21
        }
      ]
    },
    {
      "cell_type": "code",
      "source": [
        "naive_bayes_predict(test_x[0], p_prior, p_likelihood)"
      ],
      "metadata": {
        "colab": {
          "base_uri": "https://localhost:8080/"
        },
        "id": "KEq7Rsr7KhUy",
        "outputId": "91c122e5-f2b3-4b83-9eb4-b66389e4d088"
      },
      "execution_count": 22,
      "outputs": [
        {
          "output_type": "execute_result",
          "data": {
            "text/plain": [
              "{'prob': {0: 1.1032955242760357e-80, 1: 2.0993946427583525e-79}, 'label': 1}"
            ]
          },
          "metadata": {},
          "execution_count": 22
        }
      ]
    },
    {
      "cell_type": "markdown",
      "source": [
        "**Đánh giá độ chính xác trên tập test**"
      ],
      "metadata": {
        "id": "C33bIvCbKpOS"
      }
    },
    {
      "cell_type": "code",
      "source": [
        "acc = 0\n",
        "for sentence, label in zip(test_x, test_y):\n",
        "\n",
        "    # dự đoán từng câu trong tập kiểm tra\n",
        "    pred = naive_bayes_predict(sentence, p_prior, p_likelihood)['label']\n",
        "\n",
        "    # so sánh nhãn dự đoán với nhãn thực tế\n",
        "    if int(pred) == int(label):\n",
        "        acc += 1\n",
        "\n",
        "print('Accuracy: ', acc/len(test_x))"
      ],
      "metadata": {
        "colab": {
          "base_uri": "https://localhost:8080/"
        },
        "id": "uE6uK54iKrBT",
        "outputId": "dbd6a5d9-2478-4704-dd37-a8269dc086c9"
      },
      "execution_count": 23,
      "outputs": [
        {
          "output_type": "stream",
          "name": "stdout",
          "text": [
            "Accuracy:  0.994\n"
          ]
        }
      ]
    }
  ]
}